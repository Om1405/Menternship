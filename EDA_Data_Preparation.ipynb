{
 "cells": [
  {
   "cell_type": "markdown",
   "id": "51fb956f-d104-4c8e-ba78-0c0b4526906c",
   "metadata": {},
   "source": [
    "# Data Cleaning and Pre-processing"
   ]
  },
  {
   "cell_type": "code",
   "execution_count": 42,
   "id": "a15126d1-52de-4b37-898c-b88b8ce25f8d",
   "metadata": {},
   "outputs": [],
   "source": [
    "# Import necessary libraries\n",
    "import numpy as np\n",
    "import pandas as pd\n",
    "import matplotlib.pyplot as plt\n",
    "import seaborn as sns\n",
    "from sklearn.preprocessing import StandardScaler\n",
    "import statsmodels.api as sm\n",
    "import warnings\n",
    "warnings.filterwarnings('ignore')"
   ]
  },
  {
   "cell_type": "markdown",
   "id": "f184a2e0-92aa-496a-95a9-7071370015d4",
   "metadata": {},
   "source": [
    "## 1. Load Raw Data\n",
    "* Read the collected data into pandas DataFrames."
   ]
  },
  {
   "cell_type": "code",
   "execution_count": 43,
   "id": "f64f421e-e172-49f5-8f3d-d726d07e3a61",
   "metadata": {},
   "outputs": [
    {
     "data": {
      "text/html": [
       "<div>\n",
       "<style scoped>\n",
       "    .dataframe tbody tr th:only-of-type {\n",
       "        vertical-align: middle;\n",
       "    }\n",
       "\n",
       "    .dataframe tbody tr th {\n",
       "        vertical-align: top;\n",
       "    }\n",
       "\n",
       "    .dataframe thead th {\n",
       "        text-align: right;\n",
       "    }\n",
       "</style>\n",
       "<table border=\"1\" class=\"dataframe\">\n",
       "  <thead>\n",
       "    <tr style=\"text-align: right;\">\n",
       "      <th></th>\n",
       "      <th>DateTime</th>\n",
       "      <th>Junction</th>\n",
       "      <th>Vehicles</th>\n",
       "      <th>ID</th>\n",
       "    </tr>\n",
       "  </thead>\n",
       "  <tbody>\n",
       "    <tr>\n",
       "      <th>0</th>\n",
       "      <td>01/11/15 0:00</td>\n",
       "      <td>1</td>\n",
       "      <td>15</td>\n",
       "      <td>20151101001</td>\n",
       "    </tr>\n",
       "    <tr>\n",
       "      <th>1</th>\n",
       "      <td>01/11/15 1:00</td>\n",
       "      <td>1</td>\n",
       "      <td>13</td>\n",
       "      <td>20151101011</td>\n",
       "    </tr>\n",
       "    <tr>\n",
       "      <th>2</th>\n",
       "      <td>01/11/15 2:00</td>\n",
       "      <td>1</td>\n",
       "      <td>10</td>\n",
       "      <td>20151101021</td>\n",
       "    </tr>\n",
       "    <tr>\n",
       "      <th>3</th>\n",
       "      <td>01/11/15 3:00</td>\n",
       "      <td>1</td>\n",
       "      <td>7</td>\n",
       "      <td>20151101031</td>\n",
       "    </tr>\n",
       "    <tr>\n",
       "      <th>4</th>\n",
       "      <td>01/11/15 4:00</td>\n",
       "      <td>1</td>\n",
       "      <td>9</td>\n",
       "      <td>20151101041</td>\n",
       "    </tr>\n",
       "  </tbody>\n",
       "</table>\n",
       "</div>"
      ],
      "text/plain": [
       "        DateTime  Junction  Vehicles           ID\n",
       "0  01/11/15 0:00         1        15  20151101001\n",
       "1  01/11/15 1:00         1        13  20151101011\n",
       "2  01/11/15 2:00         1        10  20151101021\n",
       "3  01/11/15 3:00         1         7  20151101031\n",
       "4  01/11/15 4:00         1         9  20151101041"
      ]
     },
     "execution_count": 43,
     "metadata": {},
     "output_type": "execute_result"
    }
   ],
   "source": [
    "# Load raw data\n",
    "df = pd.read_csv(\"Dataset_Uber Traffic.csv\")\n",
    "df.head()"
   ]
  },
  {
   "cell_type": "code",
   "execution_count": 44,
   "id": "6c3b6993-1104-4a4c-a822-3e797e98f584",
   "metadata": {},
   "outputs": [
    {
     "data": {
      "text/plain": [
       "(48120, 4)"
      ]
     },
     "execution_count": 44,
     "metadata": {},
     "output_type": "execute_result"
    }
   ],
   "source": [
    "# Check the shape of the DataFrame\n",
    "df.shape"
   ]
  },
  {
   "cell_type": "code",
   "execution_count": 45,
   "id": "47f7357e-5567-4e80-a67e-c452554caf8b",
   "metadata": {},
   "outputs": [
    {
     "name": "stdout",
     "output_type": "stream",
     "text": [
      "<class 'pandas.core.frame.DataFrame'>\n",
      "RangeIndex: 48120 entries, 0 to 48119\n",
      "Data columns (total 4 columns):\n",
      " #   Column    Non-Null Count  Dtype \n",
      "---  ------    --------------  ----- \n",
      " 0   DateTime  48120 non-null  object\n",
      " 1   Junction  48120 non-null  int64 \n",
      " 2   Vehicles  48120 non-null  int64 \n",
      " 3   ID        48120 non-null  int64 \n",
      "dtypes: int64(3), object(1)\n",
      "memory usage: 1.5+ MB\n"
     ]
    }
   ],
   "source": [
    "# Check the data type of the columns\n",
    "df.info()"
   ]
  },
  {
   "cell_type": "markdown",
   "id": "2ebb8364-9f66-4f89-87b3-91b2c3d23414",
   "metadata": {},
   "source": [
    "## 2. Clean Data:\n",
    "* Missing values using methods like imputation or removal (df.fillna(), df.dropna()).\n",
    "* Remove duplicates (df.drop_duplicates()).\n",
    "* Correct data types (df.astype()).\n"
   ]
  },
  {
   "cell_type": "code",
   "execution_count": 46,
   "id": "f52e77cc-b38c-47a4-bc11-d1c345a738a2",
   "metadata": {},
   "outputs": [],
   "source": [
    "# Hadle missing values\n",
    "df.fillna(method = \"ffill\", inplace = True)          # Forward fill missing values\n",
    "df.dropna(inplace = True)                            # Dropping NaN (null) values"
   ]
  },
  {
   "cell_type": "code",
   "execution_count": 47,
   "id": "95071d34-5ca3-4e4a-9506-acf8517aa24f",
   "metadata": {},
   "outputs": [],
   "source": [
    "# Remove duplicates\n",
    "df.drop_duplicates(inplace = True)"
   ]
  },
  {
   "cell_type": "code",
   "execution_count": 48,
   "id": "dd9f75bb-4fb5-44e9-8e28-3a8dd154375f",
   "metadata": {},
   "outputs": [],
   "source": [
    "# Correct data types\n",
    "# Convert DateTime column to datetime data type\n",
    "df[\"DateTime\"] = pd.to_datetime(df[\"DateTime\"])"
   ]
  },
  {
   "cell_type": "markdown",
   "id": "95251ad6-d50e-4c78-8352-818bfcda40ae",
   "metadata": {},
   "source": [
    "## 3. Aggregate traffic data:\n",
    "- Compile traffic data into hourly intervals for each junction.\n",
    "- Ensure data includes relevant details such as vehicle counts."
   ]
  },
  {
   "cell_type": "code",
   "execution_count": 49,
   "id": "928f314e-c0e9-45b8-af4a-ec73c3c21d31",
   "metadata": {},
   "outputs": [
    {
     "data": {
      "text/html": [
       "<div>\n",
       "<style scoped>\n",
       "    .dataframe tbody tr th:only-of-type {\n",
       "        vertical-align: middle;\n",
       "    }\n",
       "\n",
       "    .dataframe tbody tr th {\n",
       "        vertical-align: top;\n",
       "    }\n",
       "\n",
       "    .dataframe thead th {\n",
       "        text-align: right;\n",
       "    }\n",
       "</style>\n",
       "<table border=\"1\" class=\"dataframe\">\n",
       "  <thead>\n",
       "    <tr style=\"text-align: right;\">\n",
       "      <th></th>\n",
       "      <th>DateTime</th>\n",
       "      <th>Junction</th>\n",
       "      <th>Vehicles</th>\n",
       "      <th>ID</th>\n",
       "    </tr>\n",
       "  </thead>\n",
       "  <tbody>\n",
       "    <tr>\n",
       "      <th>0</th>\n",
       "      <td>2015-01-11 00:00:00</td>\n",
       "      <td>6</td>\n",
       "      <td>30</td>\n",
       "      <td>60453303006</td>\n",
       "    </tr>\n",
       "    <tr>\n",
       "      <th>1</th>\n",
       "      <td>2015-01-11 01:00:00</td>\n",
       "      <td>6</td>\n",
       "      <td>26</td>\n",
       "      <td>60453303036</td>\n",
       "    </tr>\n",
       "    <tr>\n",
       "      <th>2</th>\n",
       "      <td>2015-01-11 02:00:00</td>\n",
       "      <td>6</td>\n",
       "      <td>20</td>\n",
       "      <td>60453303066</td>\n",
       "    </tr>\n",
       "    <tr>\n",
       "      <th>3</th>\n",
       "      <td>2015-01-11 03:00:00</td>\n",
       "      <td>6</td>\n",
       "      <td>14</td>\n",
       "      <td>60453303096</td>\n",
       "    </tr>\n",
       "    <tr>\n",
       "      <th>4</th>\n",
       "      <td>2015-01-11 04:00:00</td>\n",
       "      <td>6</td>\n",
       "      <td>18</td>\n",
       "      <td>60453303126</td>\n",
       "    </tr>\n",
       "  </tbody>\n",
       "</table>\n",
       "</div>"
      ],
      "text/plain": [
       "             DateTime  Junction  Vehicles           ID\n",
       "0 2015-01-11 00:00:00         6        30  60453303006\n",
       "1 2015-01-11 01:00:00         6        26  60453303036\n",
       "2 2015-01-11 02:00:00         6        20  60453303066\n",
       "3 2015-01-11 03:00:00         6        14  60453303096\n",
       "4 2015-01-11 04:00:00         6        18  60453303126"
      ]
     },
     "execution_count": 49,
     "metadata": {},
     "output_type": "execute_result"
    }
   ],
   "source": [
    "# Aggregate data into hourly intervals\n",
    "df.set_index('DateTime', inplace = True)\n",
    "df = df.resample('H').sum().reset_index()\n",
    "df.head()"
   ]
  },
  {
   "cell_type": "markdown",
   "id": "2a885e95-a0bb-4844-b754-090702561e88",
   "metadata": {},
   "source": [
    "## 4. Feature Engineering:\n",
    "* Create new features from raw data:\n",
    "  - Generate time-based features such as hour of the day, day of the week, and month.\n",
    "  - Develop lag features by including traffic data from previous hours or days to capture temporal dependencies.\n",
    "  - Create binary indicators for weekends and special events to account for their impact on traffic."
   ]
  },
  {
   "cell_type": "code",
   "execution_count": 50,
   "id": "90b70581-fd37-4117-ae08-b08a56e60660",
   "metadata": {},
   "outputs": [],
   "source": [
    "# Generate time-based features such as hour of the day, day of the week, and month\n",
    "df[\"hour\"] = df['DateTime'].dt.hour\n",
    "df[\"day_of_week\"] = df['DateTime'].dt.dayofweek\n",
    "df['month'] = df['DateTime'].dt.month"
   ]
  },
  {
   "cell_type": "code",
   "execution_count": 53,
   "id": "c68b01eb-e47e-4ff6-89f2-35e89fa77cd3",
   "metadata": {},
   "outputs": [],
   "source": [
    "# Create lalg features \n",
    "df['traffic_lag_1'] = df['Vehicles'].shift(1)\n",
    "df['traffic_lag_24'] = df['Vehicles'].shift(24)"
   ]
  },
  {
   "cell_type": "code",
   "execution_count": 56,
   "id": "ec6a29a6-aabc-4959-aa6a-e6cef7338f51",
   "metadata": {},
   "outputs": [],
   "source": [
    "# Create binary indicators for weekends\n",
    "df['weekend'] = df['day_of_week'].apply(lambda x : 1 if x >= 5 else 0)"
   ]
  },
  {
   "cell_type": "code",
   "execution_count": 57,
   "id": "90f7fdc3-4904-4a8f-ae57-71b51edabbeb",
   "metadata": {},
   "outputs": [],
   "source": [
    "# Fill NaN values for shifting\n",
    "df.fillna(0, inplace = True)"
   ]
  },
  {
   "cell_type": "markdown",
   "id": "3ecec568-2793-48e6-91a4-c485b3f8b814",
   "metadata": {},
   "source": [
    "## 5. Preprocess the data:\n",
    "* Normalize or standardize the data to facilitate comparison across different time periods and junctions."
   ]
  },
  {
   "cell_type": "code",
   "execution_count": 58,
   "id": "be466bad-8434-4de5-83b8-ff9865286577",
   "metadata": {},
   "outputs": [],
   "source": [
    "scaler = StandardScaler()\n",
    "df[['Vehicles', 'traffic_lag_1', 'traffic_lag_24']] = scaler.fit_transform(\n",
    "    df[['Vehicles', 'traffic_lag_1', 'traffic_lag_24']])"
   ]
  },
  {
   "cell_type": "markdown",
   "id": "f4235433-39c6-42d1-8e5d-7008b169450d",
   "metadata": {},
   "source": [
    "## 6. Feature Selection using Linear Regreesion (OLS):"
   ]
  },
  {
   "cell_type": "code",
   "execution_count": 66,
   "id": "3f2f1db3-2a95-470b-9ced-019cbc9fceee",
   "metadata": {},
   "outputs": [],
   "source": [
    "# Feature Selection using Linear Regression (OLS)\n",
    "X = df[['hour', 'day_of_week', 'month', 'weekend', 'traffic_lag_1', 'traffic_lag_24']]\n",
    "y = df['Vehicles']"
   ]
  },
  {
   "cell_type": "code",
   "execution_count": 67,
   "id": "2670338e-d4d8-43d6-b713-50a8e1cb4037",
   "metadata": {},
   "outputs": [],
   "source": [
    "# Add constant for intercept in OLS\n",
    "X = sm.add_constant(X)"
   ]
  },
  {
   "cell_type": "code",
   "execution_count": 68,
   "id": "d137095e-8029-4943-977f-1df68593ed0d",
   "metadata": {},
   "outputs": [],
   "source": [
    "# Fit the model\n",
    "model = sm.OLS(y, X).fit()"
   ]
  },
  {
   "cell_type": "code",
   "execution_count": 69,
   "id": "fce8fdc1-e157-466c-93c2-bd6cc88d5d38",
   "metadata": {},
   "outputs": [
    {
     "name": "stdout",
     "output_type": "stream",
     "text": [
      "\n",
      "Feature Selection Results (p-values): \n",
      "                            OLS Regression Results                            \n",
      "==============================================================================\n",
      "Dep. Variable:               Vehicles   R-squared:                       0.962\n",
      "Model:                            OLS   Adj. R-squared:                  0.962\n",
      "Method:                 Least Squares   F-statistic:                 1.073e+05\n",
      "Date:                Mon, 03 Mar 2025   Prob (F-statistic):               0.00\n",
      "Time:                        11:49:51   Log-Likelihood:                 5490.8\n",
      "No. Observations:               25464   AIC:                        -1.097e+04\n",
      "Df Residuals:                   25457   BIC:                        -1.091e+04\n",
      "Df Model:                           6                                         \n",
      "Covariance Type:            nonrobust                                         \n",
      "==================================================================================\n",
      "                     coef    std err          t      P>|t|      [0.025      0.975]\n",
      "----------------------------------------------------------------------------------\n",
      "const             -0.0143      0.004     -3.605      0.000      -0.022      -0.007\n",
      "hour               0.0025      0.000     13.752      0.000       0.002       0.003\n",
      "day_of_week       -0.0041      0.001     -4.142      0.000      -0.006      -0.002\n",
      "month             -0.0003      0.000     -0.949      0.343      -0.001       0.000\n",
      "weekend            0.0020      0.004      0.458      0.647      -0.007       0.011\n",
      "traffic_lag_1      0.9121      0.002    383.097      0.000       0.907       0.917\n",
      "traffic_lag_24     0.0751      0.002     31.532      0.000       0.070       0.080\n",
      "==============================================================================\n",
      "Omnibus:                    10046.148   Durbin-Watson:                   1.640\n",
      "Prob(Omnibus):                  0.000   Jarque-Bera (JB):          1739416.792\n",
      "Skew:                           0.795   Prob(JB):                         0.00\n",
      "Kurtosis:                      43.458   Cond. No.                         59.4\n",
      "==============================================================================\n",
      "\n",
      "Notes:\n",
      "[1] Standard Errors assume that the covariance matrix of the errors is correctly specified.\n"
     ]
    }
   ],
   "source": [
    "# Print feature selection results\n",
    "print(\"\\nFeature Selection Results (p-values): \")\n",
    "print(model.summary())"
   ]
  },
  {
   "cell_type": "code",
   "execution_count": 73,
   "id": "de307a73-ba89-4991-85fe-190ea7ff506a",
   "metadata": {},
   "outputs": [],
   "source": [
    "# Filter out features with p-values > 0.05 (not statistically significant)\n",
    "selected_features = X.columns[model.pvalues < 0.05].tolist()\n",
    "if 'const' in selected_features:\n",
    "    selected_features.remove('const')        # Remove intercept"
   ]
  },
  {
   "cell_type": "code",
   "execution_count": 74,
   "id": "2b7cd6f4-c923-489b-984d-9442dc6827f3",
   "metadata": {},
   "outputs": [
    {
     "name": "stdout",
     "output_type": "stream",
     "text": [
      "\n",
      "Selected Features:  ['hour', 'day_of_week', 'traffic_lag_1', 'traffic_lag_24']\n"
     ]
    }
   ],
   "source": [
    "print(\"\\nSelected Features: \", selected_features)"
   ]
  },
  {
   "cell_type": "code",
   "execution_count": null,
   "id": "2fa40cff-6644-4443-889a-dae0e1723f1a",
   "metadata": {},
   "outputs": [],
   "source": []
  }
 ],
 "metadata": {
  "kernelspec": {
   "display_name": "Python 3 (ipykernel)",
   "language": "python",
   "name": "python3"
  },
  "language_info": {
   "codemirror_mode": {
    "name": "ipython",
    "version": 3
   },
   "file_extension": ".py",
   "mimetype": "text/x-python",
   "name": "python",
   "nbconvert_exporter": "python",
   "pygments_lexer": "ipython3",
   "version": "3.12.5"
  },
  "widgets": {
   "application/vnd.jupyter.widget-state+json": {
    "state": {},
    "version_major": 2,
    "version_minor": 0
   }
  }
 },
 "nbformat": 4,
 "nbformat_minor": 5
}
